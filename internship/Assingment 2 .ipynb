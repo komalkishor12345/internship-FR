{
 "cells": [
  {
   "cell_type": "code",
   "execution_count": 1,
   "id": "9de46cee",
   "metadata": {},
   "outputs": [
    {
     "name": "stdout",
     "output_type": "stream",
     "text": [
      "Python:Exercises::PHP:exercises:\n"
     ]
    }
   ],
   "source": [
    "import re\n",
    "text = 'Python Exercises, PHP exercises.'\n",
    "print(re.sub(\"[ ,.]\", \":\", text))"
   ]
  },
  {
   "cell_type": "code",
   "execution_count": 2,
   "id": "03653973",
   "metadata": {},
   "outputs": [
    {
     "name": "stdout",
     "output_type": "stream",
     "text": [
      "             SUMMARY\n",
      "0       hello world \n",
      "1         XXXXX test\n",
      "2  123four five six \n"
     ]
    }
   ],
   "source": [
    "import pandas as pd\n",
    "import re\n",
    "\n",
    "\n",
    "data = {'SUMMARY' : ['hello, world!', 'XXXXX test', '123four, five:; six...']}\n",
    "\n",
    "\n",
    "df = pd.DataFrame(data)\n",
    "\n",
    "\n",
    "def clean_text(text):\n",
    "    return re.sub(r'\\W+', ' ', text)\n",
    "\n",
    "\n",
    "df['SUMMARY'] = df['SUMMARY'].apply(clean_text)\n",
    "\n",
    "print(df)\n"
   ]
  },
  {
   "cell_type": "code",
   "execution_count": 8,
   "id": "149a9f07",
   "metadata": {},
   "outputs": [],
   "source": [
    "import re\n",
    "\n",
    "def find_long_words(text):\n",
    "    \n",
    "    pattern = re.compile(r'\\b\\w{4,}\\b')\n",
    "    \n",
    "\n",
    "    long_words = pattern.findall(text)\n",
    "    \n",
    "    return long_words()\n",
    "df()"
   ]
  },
  {
   "cell_type": "code",
   "execution_count": 9,
   "id": "44f58eb5",
   "metadata": {},
   "outputs": [],
   "source": [
    "import re\n",
    "\n",
    "def find_specific_length_words(text):\n",
    "   \n",
    "    pattern = re.compile(r'\\b\\w{3,5}\\b')\n",
    "    \n",
    "    \n",
    "    specific_length_words = pattern.findall(text)\n",
    "    \n",
    "    return specific_length_words "
   ]
  },
  {
   "cell_type": "code",
   "execution_count": 12,
   "id": "b53c967e",
   "metadata": {},
   "outputs": [
    {
     "name": "stdout",
     "output_type": "stream",
     "text": [
      "['This', 'sample', 'sentence', 'with', 'words', 'varying', 'lengths', 'such', 'apple', 'banana', 'orange', 'pineapple']\n"
     ]
    }
   ],
   "source": [
    "text = \"This is a sample sentence with words of varying lengths such as apple, banana, orange, and pineapple.\"\n",
    "result = find_long_words(text)\n",
    "print(result) "
   ]
  },
  {
   "cell_type": "code",
   "execution_count": 13,
   "id": "49fc77dd",
   "metadata": {},
   "outputs": [],
   "source": [
    "import re\n",
    "\n",
    "def remove_parenthesis(strings):\n",
    "   \n",
    "    pattern = re.compile(r'\\(|\\)')\n",
    "    \n",
    "    cleaned_strings = [pattern.sub('', s) for s in strings]\n",
    "    \n",
    "    return cleaned_strings"
   ]
  },
  {
   "cell_type": "code",
   "execution_count": 19,
   "id": "dea0ea52",
   "metadata": {},
   "outputs": [
    {
     "name": "stdout",
     "output_type": "stream",
     "text": [
      "['example .com', 'hr@fliprobo .com', 'github .com', 'Hello Data Science World', 'Data Scientist']\n"
     ]
    }
   ],
   "source": [
    "import re\n",
    "\n",
    "def remove_parenthesis(strings):\n",
    "    \n",
    "    pattern = re.compile(r'[()]')\n",
    "    \n",
    "\n",
    "    cleaned_strings = [pattern.sub('', s) for s in strings]\n",
    "    \n",
    "    return cleaned_strings\n",
    "\n",
    "\n",
    "\n",
    "\n",
    "\n",
    "\n",
    "sample_text = [\"example (.com)\", \"hr@fliprobo (.com)\", \"github (.com)\", \"Hello (Data Science World)\", \"Data (Scientist)\"]\n",
    "result = remove_parenthesis(sample_text)\n",
    "print(result)"
   ]
  },
  {
   "cell_type": "code",
   "execution_count": 21,
   "id": "d42a67c6",
   "metadata": {},
   "outputs": [
    {
     "name": "stdout",
     "output_type": "stream",
     "text": [
      "Original Text:\n",
      "[\"example (.com)\", \"hr@fliprobo (.com)\", \"github (.com)\", \"Hello (Data Science World)\", \"Data (Scientist)\"]\n",
      "\n",
      "Text after removing parenthesis area:\n",
      "[\"example \", \"hr@fliprobo \", \"github \", \"Hello \", \"Data \"]\n"
     ]
    }
   ],
   "source": [
    "import re\n",
    "\n",
    "def remove_parenthesis(text):\n",
    "    \n",
    "    pattern = re.compile(r'\\([^()]*\\)')\n",
    "\n",
    "\n",
    "    cleaned_text = pattern.sub('', text)\n",
    "\n",
    "    return cleaned_text\n",
    "\n",
    "\n",
    "sample_text = '''[\"example (.com)\", \"hr@fliprobo (.com)\", \"github (.com)\", \"Hello (Data Science World)\", \"Data (Scientist)\"]'''\n",
    "\n",
    "\n",
    "cleaned_text = remove_parenthesis(sample_text)\n",
    "\n",
    "print(\"Original Text:\")\n",
    "print(sample_text)\n",
    "print(\"\\nText after removing parenthesis area:\")\n",
    "print(cleaned_text)\n"
   ]
  },
  {
   "cell_type": "code",
   "execution_count": 22,
   "id": "0f8b52aa",
   "metadata": {},
   "outputs": [
    {
     "name": "stdout",
     "output_type": "stream",
     "text": [
      "Uppercase letters: ['I', 'O', 'R', 'E', 'I', 'P']\n"
     ]
    }
   ],
   "source": [
    "import re\n",
    "\n",
    "\n",
    "sample_text = \"ImportanceOfRegularExpressionsInPython\"\n",
    "\n",
    "\n",
    "pattern = re.compile(r'[A-Z]')\n",
    "\n",
    "\n",
    "uppercase_letters = pattern.findall(sample_text)\n",
    "\n",
    "print(\"Uppercase letters:\", uppercase_letters)\n"
   ]
  },
  {
   "cell_type": "code",
   "execution_count": 23,
   "id": "cdfc01fc",
   "metadata": {},
   "outputs": [
    {
     "name": "stdout",
     "output_type": "stream",
     "text": [
      "Modified text: RegularExpression1 IsAn2 ImportantTopic3 InPython\n"
     ]
    }
   ],
   "source": [
    "import re\n",
    "\n",
    "def insert_spaces(text):\n",
    "  \n",
    "    pattern = re.compile(r'(\\d)([A-Za-z]+)')\n",
    "\n",
    "\n",
    "    modified_text = pattern.sub(r'\\1 \\2', text)\n",
    "\n",
    "    return modified_text\n",
    "\n",
    "\n",
    "sample_text = \"RegularExpression1IsAn2ImportantTopic3InPython\"\n",
    "\n",
    "modified_text = insert_spaces(sample_text)\n",
    "\n",
    "print(\"Modified text:\", modified_text) \n"
   ]
  },
  {
   "cell_type": "code",
   "execution_count": 24,
   "id": "5fdcefdc",
   "metadata": {},
   "outputs": [
    {
     "name": "stdout",
     "output_type": "stream",
     "text": [
      "Modified text: Regular Expression 1 Is An 2 Important Topic 3 In Python\n"
     ]
    }
   ],
   "source": [
    "import re\n",
    "\n",
    "def insert_spaces(text):\n",
    "    \n",
    "    pattern = re.compile(r'(?<!^)(?=[A-Z\\d])')\n",
    "\n",
    "    \n",
    "    modified_text = pattern.sub(' ', text)\n",
    "\n",
    "    return modified_text\n",
    "\n",
    "\n",
    "sample_text = \"RegularExpression1IsAn2ImportantTopic3InPython\"\n",
    "\n",
    "\n",
    "modified_text = insert_spaces(sample_text)\n",
    "\n",
    "print(\"Modified text:\", modified_text) "
   ]
  },
  {
   "cell_type": "code",
   "execution_count": 27,
   "id": "1d1c56f0",
   "metadata": {},
   "outputs": [
    {
     "data": {
      "text/html": [
       "<div>\n",
       "<style scoped>\n",
       "    .dataframe tbody tr th:only-of-type {\n",
       "        vertical-align: middle;\n",
       "    }\n",
       "\n",
       "    .dataframe tbody tr th {\n",
       "        vertical-align: top;\n",
       "    }\n",
       "\n",
       "    .dataframe thead th {\n",
       "        text-align: right;\n",
       "    }\n",
       "</style>\n",
       "<table border=\"1\" class=\"dataframe\">\n",
       "  <thead>\n",
       "    <tr style=\"text-align: right;\">\n",
       "      <th></th>\n",
       "      <th>Country</th>\n",
       "      <th>Region</th>\n",
       "      <th>Happiness Rank</th>\n",
       "      <th>Happiness Score</th>\n",
       "      <th>Standard Error</th>\n",
       "      <th>Economy (GDP per Capita)</th>\n",
       "      <th>Family</th>\n",
       "      <th>Health (Life Expectancy)</th>\n",
       "      <th>Freedom</th>\n",
       "      <th>Trust (Government Corruption)</th>\n",
       "      <th>Generosity</th>\n",
       "      <th>Dystopia Residual</th>\n",
       "      <th>first_five_letters</th>\n",
       "    </tr>\n",
       "  </thead>\n",
       "  <tbody>\n",
       "    <tr>\n",
       "      <th>0</th>\n",
       "      <td>Switzerland</td>\n",
       "      <td>Western Europe</td>\n",
       "      <td>1</td>\n",
       "      <td>7.587</td>\n",
       "      <td>0.03411</td>\n",
       "      <td>1.39651</td>\n",
       "      <td>1.34951</td>\n",
       "      <td>0.94143</td>\n",
       "      <td>0.66557</td>\n",
       "      <td>0.41978</td>\n",
       "      <td>0.29678</td>\n",
       "      <td>2.51738</td>\n",
       "      <td>Switze</td>\n",
       "    </tr>\n",
       "    <tr>\n",
       "      <th>1</th>\n",
       "      <td>Iceland</td>\n",
       "      <td>Western Europe</td>\n",
       "      <td>2</td>\n",
       "      <td>7.561</td>\n",
       "      <td>0.04884</td>\n",
       "      <td>1.30232</td>\n",
       "      <td>1.40223</td>\n",
       "      <td>0.94784</td>\n",
       "      <td>0.62877</td>\n",
       "      <td>0.14145</td>\n",
       "      <td>0.43630</td>\n",
       "      <td>2.70201</td>\n",
       "      <td>Icelan</td>\n",
       "    </tr>\n",
       "    <tr>\n",
       "      <th>2</th>\n",
       "      <td>Denmark</td>\n",
       "      <td>Western Europe</td>\n",
       "      <td>3</td>\n",
       "      <td>7.527</td>\n",
       "      <td>0.03328</td>\n",
       "      <td>1.32548</td>\n",
       "      <td>1.36058</td>\n",
       "      <td>0.87464</td>\n",
       "      <td>0.64938</td>\n",
       "      <td>0.48357</td>\n",
       "      <td>0.34139</td>\n",
       "      <td>2.49204</td>\n",
       "      <td>Denmar</td>\n",
       "    </tr>\n",
       "    <tr>\n",
       "      <th>3</th>\n",
       "      <td>Norway</td>\n",
       "      <td>Western Europe</td>\n",
       "      <td>4</td>\n",
       "      <td>7.522</td>\n",
       "      <td>0.03880</td>\n",
       "      <td>1.45900</td>\n",
       "      <td>1.33095</td>\n",
       "      <td>0.88521</td>\n",
       "      <td>0.66973</td>\n",
       "      <td>0.36503</td>\n",
       "      <td>0.34699</td>\n",
       "      <td>2.46531</td>\n",
       "      <td>Norway</td>\n",
       "    </tr>\n",
       "    <tr>\n",
       "      <th>4</th>\n",
       "      <td>Canada</td>\n",
       "      <td>North America</td>\n",
       "      <td>5</td>\n",
       "      <td>7.427</td>\n",
       "      <td>0.03553</td>\n",
       "      <td>1.32629</td>\n",
       "      <td>1.32261</td>\n",
       "      <td>0.90563</td>\n",
       "      <td>0.63297</td>\n",
       "      <td>0.32957</td>\n",
       "      <td>0.45811</td>\n",
       "      <td>2.45176</td>\n",
       "      <td>Canada</td>\n",
       "    </tr>\n",
       "  </tbody>\n",
       "</table>\n",
       "</div>"
      ],
      "text/plain": [
       "       Country          Region  Happiness Rank  Happiness Score  \\\n",
       "0  Switzerland  Western Europe               1            7.587   \n",
       "1      Iceland  Western Europe               2            7.561   \n",
       "2      Denmark  Western Europe               3            7.527   \n",
       "3       Norway  Western Europe               4            7.522   \n",
       "4       Canada   North America               5            7.427   \n",
       "\n",
       "   Standard Error  Economy (GDP per Capita)   Family  \\\n",
       "0         0.03411                   1.39651  1.34951   \n",
       "1         0.04884                   1.30232  1.40223   \n",
       "2         0.03328                   1.32548  1.36058   \n",
       "3         0.03880                   1.45900  1.33095   \n",
       "4         0.03553                   1.32629  1.32261   \n",
       "\n",
       "   Health (Life Expectancy)  Freedom  Trust (Government Corruption)  \\\n",
       "0                   0.94143  0.66557                        0.41978   \n",
       "1                   0.94784  0.62877                        0.14145   \n",
       "2                   0.87464  0.64938                        0.48357   \n",
       "3                   0.88521  0.66973                        0.36503   \n",
       "4                   0.90563  0.63297                        0.32957   \n",
       "\n",
       "   Generosity  Dystopia Residual first_five_letters  \n",
       "0     0.29678            2.51738             Switze  \n",
       "1     0.43630            2.70201             Icelan  \n",
       "2     0.34139            2.49204             Denmar  \n",
       "3     0.34699            2.46531             Norway  \n",
       "4     0.45811            2.45176             Canada  "
      ]
     },
     "execution_count": 27,
     "metadata": {},
     "output_type": "execute_result"
    }
   ],
   "source": [
    "import pandas as pd\n",
    "\n",
    "url = \"https://raw.githubusercontent.com/dsrscientist/DSData/master/happiness_score_dataset.csv\"\n",
    "\n",
    "df = pd.read_csv(url)\n",
    "\n",
    "df['first_five_letters'] = df['Country'].apply(lambda y: y[:6])\n",
    "\n",
    "df.head() \n"
   ]
  },
  {
   "cell_type": "code",
   "execution_count": 28,
   "id": "c244d112",
   "metadata": {},
   "outputs": [
    {
     "name": "stdout",
     "output_type": "stream",
     "text": [
      "'Hello_World123' matches the pattern.\n",
      "'Python3' matches the pattern.\n",
      "'123_abc' matches the pattern.\n",
      "'Hello$World' does not match the pattern.\n"
     ]
    }
   ],
   "source": [
    "import re\n",
    "\n",
    "def match_string(text):\n",
    "\n",
    "    pattern = re.compile(r'^[a-zA-Z0-9_]+$')\n",
    "\n",
    "\n",
    "    if pattern.match(text):\n",
    "        return True\n",
    "    else:\n",
    "        return False\n",
    "\n",
    "    \n",
    "strings = [\"Hello_World123\", \"Python3\", \"123_abc\", \"Hello$World\"]\n",
    "\n",
    "\n",
    "for string in strings:\n",
    "    if match_string(string):\n",
    "        print(f\"'{string}' matches the pattern.\")\n",
    "    else:\n",
    "        print(f\"'{string}' does not match the pattern.\") "
   ]
  },
  {
   "cell_type": "code",
   "execution_count": 30,
   "id": "c59dd2e8",
   "metadata": {},
   "outputs": [
    {
     "name": "stdout",
     "output_type": "stream",
     "text": [
      "'123abc' starts with 123.\n",
      "'123abc' does not start with 456.\n",
      "'123abc' does not start with 789.\n",
      "'456xyz' does not start with 123.\n",
      "'456xyz' starts with 456.\n",
      "'456xyz' does not start with 789.\n",
      "'789pqr' does not start with 123.\n",
      "'789pqr' does not start with 456.\n",
      "'789pqr' starts with 789.\n",
      "'xyz123' does not start with 123.\n",
      "'xyz123' does not start with 456.\n",
      "'xyz123' does not start with 789.\n",
      "'123abc456' starts with 123.\n",
      "'123abc456' does not start with 456.\n",
      "'123abc456' does not start with 789.\n"
     ]
    }
   ],
   "source": [
    "import re\n",
    "\n",
    "def starts_with_number(string, number):\n",
    "    \n",
    "    pattern = re.compile(r'^' + re.escape(str(number)))\n",
    "\n",
    "    \n",
    "    if pattern.match(string):\n",
    "        return True\n",
    "    else:\n",
    "        return False\n",
    "\n",
    "\n",
    "strings = [\"123abc\", \"456xyz\", \"789pqr\", \"xyz123\", \"123abc456\"]\n",
    "numbers = [123, 456, 789]\n",
    "\n",
    "\n",
    "for string in strings:\n",
    "    for number in numbers:\n",
    "        if starts_with_number(string, number):\n",
    "            print(f\"'{string}' starts with {number}.\")\n",
    "        else:\n",
    "            print(f\"'{string}' does not start with {number}.\") \n"
   ]
  },
  {
   "cell_type": "code",
   "execution_count": 33,
   "id": "62f922be",
   "metadata": {},
   "outputs": [
    {
     "name": "stdout",
     "output_type": "stream",
     "text": [
      "Original IP: 192.168.001.001\t Cleaned IP: 192.168.1.1\n",
      "Original IP: 010.020.003.004\t Cleaned IP: 10.20.3.4\n",
      "Original IP: 000.000.000.000\t Cleaned IP: 0.0.0.0\n"
     ]
    }
   ],
   "source": [
    "import re\n",
    "\n",
    "def remove_leading_zeros(ip_address):\n",
    "    \n",
    "    pattern = re.compile(r'\\b0+(\\d)')\n",
    "\n",
    "    \n",
    "    cleaned_ip_address = pattern.sub(r'\\1', ip_address)\n",
    "\n",
    "    return cleaned_ip_address\n",
    "\n",
    "\n",
    "ip_addresses = [\"192.168.001.001\", \"010.020.003.004\", \"000.000.000.000\"]\n",
    "\n",
    "\n",
    "for ip_address in ip_addresses:\n",
    "    cleaned_ip_address = remove_leading_zeros(ip_address)\n",
    "    print(f\"Original IP: {ip_address}\\t Cleaned IP: {cleaned_ip_address}\") \n"
   ]
  },
  {
   "cell_type": "code",
   "execution_count": 36,
   "id": "e791dbc5",
   "metadata": {},
   "outputs": [
    {
     "name": "stdout",
     "output_type": "stream",
     "text": [
      "['August 15th 1947']\n"
     ]
    }
   ],
   "source": [
    "import re\n",
    "\n",
    "\n",
    "text = \"On August 15th 1947 that India was declared independent from British colonialism, and the reins of control were handed over to the leaders of the Country.\"\n",
    "\n",
    "\n",
    "pattern = re.compile(r'\\b(?:January|February|March|April|May|June|July|August|September|October|November|December)\\s+\\d{1,2}(?:st|nd|rd|th)\\s+\\d{4}\\b')\n",
    "\n",
    "\n",
    "matches = pattern.findall(text)\n",
    "\n",
    "\n",
    "print(matches) \n"
   ]
  },
  {
   "cell_type": "markdown",
   "id": "26af713f",
   "metadata": {},
   "source": [
    "sir , i have question no. 15 do not understand "
   ]
  },
  {
   "cell_type": "markdown",
   "id": "1d9920f7",
   "metadata": {},
   "source": [
    "sir , i have question no. 16 don't understand "
   ]
  },
  {
   "cell_type": "code",
   "execution_count": null,
   "id": "e5a8617a",
   "metadata": {},
   "outputs": [],
   "source": []
  },
  {
   "cell_type": "code",
   "execution_count": 46,
   "id": "7e41b4bd",
   "metadata": {},
   "outputs": [
    {
     "name": "stdout",
     "output_type": "stream",
     "text": [
      "Positions of 'exercises' within the sample text:\n",
      "Found at position 7-16\n",
      "Found at position 22-31\n",
      "Found at position 36-45\n"
     ]
    }
   ],
   "source": [
    "import re\n",
    "\n",
    "def find_substrings(text, substring):\n",
    "    \n",
    "    matches = re.finditer(substring, text)\n",
    "\n",
    "    \n",
    "    positions = [(match.start(), match.end()) for match in matches]\n",
    "\n",
    "    return positions\n",
    "\n",
    "\n",
    "sample_text = 'Python exercises, PHP exercises, C# exercises'\n",
    "\n",
    "\n",
    "substring_to_find = 'exercises'\n",
    "\n",
    "\n",
    "substrings_positions = find_substrings(sample_text, substring_to_find)\n",
    "\n",
    "if substrings_positions:\n",
    "    print(f\"Positions of '{substring_to_find}' within the sample text:\")\n",
    "    for start, end in substrings_positions:\n",
    "        print(f\"Found at position {start}-{end}\")\n",
    "else:\n",
    "    print(f\"'{substring_to_find}' not found in the sample text.\")\n"
   ]
  },
  {
   "cell_type": "code",
   "execution_count": 48,
   "id": "bad60e6d",
   "metadata": {},
   "outputs": [
    {
     "name": "stdout",
     "output_type": "stream",
     "text": [
      "Occurrences of substrings within the sample text:\n",
      "'exercises' found at position 7-16\n",
      "'exercises' found at position 22-31\n",
      "'exercises' found at position 36-45\n",
      "'Python' found at position 0-6\n",
      "'PHP' found at position 18-21\n"
     ]
    }
   ],
   "source": [
    "import re\n",
    "\n",
    "def find_substring_occurrences(text, substring):\n",
    "    \n",
    "    matches = re.finditer(substring, text)\n",
    "\n",
    "    \n",
    "    occurrences = []\n",
    "\n",
    "    \n",
    "    for match in matches:\n",
    "        start_position = match.start()\n",
    "        end_position = match.end()\n",
    "        occurrences.append((substring, start_position, end_position))\n",
    "\n",
    "    return occurrences\n",
    "\n",
    "\n",
    "sample_text = 'Python exercises, PHP exercises, C# exercises'\n",
    "\n",
    "substrings_to_find = ['exercises', 'Python', 'PHP', 'Java']\n",
    "\n",
    "\n",
    "all_occurrences = []\n",
    "for substring in substrings_to_find:\n",
    "    occurrences = find_substring_occurrences(sample_text, substring)\n",
    "    all_occurrences.extend(occurrences)\n",
    "\n",
    "\n",
    "if all_occurrences:\n",
    "    print(\"Occurrences of substrings within the sample text:\")\n",
    "    for substring, start, end in all_occurrences:\n",
    "        print(f\"'{substring}' found at position {start}-{end}\")\n",
    "else:\n",
    "    print(\"No occurrences of substrings found in the sample text.\") \n"
   ]
  },
  {
   "cell_type": "code",
   "execution_count": 50,
   "id": "a17b07ec",
   "metadata": {},
   "outputs": [
    {
     "name": "stdout",
     "output_type": "stream",
     "text": [
      "Original date: 2022-04-27\n",
      "Converted date: 27-04-2022\n"
     ]
    }
   ],
   "source": [
    "from datetime import datetime\n",
    "\n",
    "def convert_date_format(date_str):\n",
    "    \n",
    "    date_obj = datetime.strptime(date_str, '%Y-%m-%d')\n",
    "\n",
    "\n",
    "    formatted_date = date_obj.strftime('%d-%m-%Y')\n",
    "\n",
    "    return formatted_date\n",
    "\n",
    "\n",
    "input_date = '2022-04-27'\n",
    "\n",
    "\n",
    "output_date = convert_date_format(input_date)\n",
    "\n",
    "\n",
    "print(f\"Original date: {input_date}\")\n",
    "print(f\"Converted date: {output_date}\") \n"
   ]
  },
  {
   "cell_type": "code",
   "execution_count": 52,
   "id": "b9ae57c8",
   "metadata": {},
   "outputs": [
    {
     "name": "stdout",
     "output_type": "stream",
     "text": [
      "Decimal numbers with precision of 1 or 2: ['01.12', '145.8', '3.01', '27.25', '0.25']\n"
     ]
    }
   ],
   "source": [
    "import re\n",
    "\n",
    "def find_decimal_numbers(text):\n",
    " \n",
    "    pattern = re.compile(r'\\b\\d+\\.\\d{1,2}\\b')\n",
    "\n",
    "    \n",
    "    decimal_numbers = pattern.findall(text)\n",
    "\n",
    "    return decimal_numbers\n",
    "\n",
    "\n",
    "sample_text = \"01.12 0132.123 2.31875 145.8 3.01 27.25 0.25\"\n",
    "\n",
    "\n",
    "result = find_decimal_numbers(sample_text)\n",
    "print(\"Decimal numbers with precision of 1 or 2:\", result) \n"
   ]
  },
  {
   "cell_type": "code",
   "execution_count": 55,
   "id": "3d9c2b8a",
   "metadata": {},
   "outputs": [
    {
     "name": "stdout",
     "output_type": "stream",
     "text": [
      "Numbers and their positions:\n",
      "Number: 10, Position: 10\n",
      "Number: 20, Position: 24\n"
     ]
    }
   ],
   "source": [
    "import re\n",
    "\n",
    "def find_numbers_with_positions(text):\n",
    "    \n",
    "    pattern = re.compile(r'\\d+')\n",
    "\n",
    "    \n",
    "    matches = [(int(match.group(0)), match.start()) for match in pattern.finditer(text)]\n",
    "\n",
    "    return matches\n",
    "\n",
    "\n",
    "sample_text = \"There are 10 apples and 20 oranges in the basket.\"\n",
    "\n",
    "\n",
    "numbers_with_positions = find_numbers_with_positions(sample_text)\n",
    "\n",
    "\n",
    "print(\"Numbers and their positions:\")\n",
    "for number, position in numbers_with_positions:\n",
    "    print(f\"Number: {number}, Position: {position}\") \n"
   ]
  },
  {
   "cell_type": "code",
   "execution_count": 57,
   "id": "e0c75de9",
   "metadata": {},
   "outputs": [
    {
     "name": "stdout",
     "output_type": "stream",
     "text": [
      "Maximum numeric value: 950\n"
     ]
    }
   ],
   "source": [
    "import re\n",
    "\n",
    "def extract_maximum_numeric_value(text):\n",
    "    \n",
    "    pattern = re.compile(r'\\b\\d+\\b')\n",
    "\n",
    "    \n",
    "    numeric_values = [int(match) for match in pattern.findall(text)]\n",
    "\n",
    "    \n",
    "    if numeric_values:\n",
    "        return max(numeric_values)\n",
    "    else:\n",
    "        return None\n",
    "\n",
    "\n",
    "sample_text = 'My marks in each semester are: 947, 896, 926, 524, 734, 950, 642'\n",
    "\n",
    "\n",
    "max_numeric_value = extract_maximum_numeric_value(sample_text)\n",
    "\n",
    "\n",
    "if max_numeric_value is not None:\n",
    "    print(\"Maximum numeric value:\", max_numeric_value)\n",
    "else:\n",
    "    print(\"No numeric values found in the sample text.\") \n"
   ]
  },
  {
   "cell_type": "code",
   "execution_count": 60,
   "id": "aff29ef4",
   "metadata": {},
   "outputs": [
    {
     "name": "stdout",
     "output_type": "stream",
     "text": [
      "Modified text: Regular Expression Is An Important Topic In Python\n"
     ]
    }
   ],
   "source": [
    "import re\n",
    "\n",
    "def insert_spaces(text):\n",
    "\n",
    "    pattern = re.compile(r'(?<!^)(?=[A-Z])')\n",
    "\n",
    "  \n",
    "    modified_text = pattern.sub(' ', text)\n",
    "\n",
    "    return modified_text\n",
    "\n",
    "\n",
    "sample_text = \"RegularExpressionIsAnImportantTopicInPython\"\n",
    "\n",
    "\n",
    "modified_text = insert_spaces(sample_text)\n",
    "\n",
    "print(\"Modified text:\", modified_text) \n"
   ]
  },
  {
   "cell_type": "code",
   "execution_count": 62,
   "id": "ced10a34",
   "metadata": {},
   "outputs": [
    {
     "name": "stdout",
     "output_type": "stream",
     "text": [
      "Sequences of one upper case letter followed by lower case letters:\n",
      "['Hello', 'World', 'Open']\n"
     ]
    }
   ],
   "source": [
    "import re\n",
    "\n",
    "\n",
    "sample_text = \"Hello World, OpenAI is an amazing AI model.\"\n",
    "\n",
    "\n",
    "pattern = re.compile(r'[A-Z][a-z]+')\n",
    "\n",
    "\n",
    "matches = pattern.findall(sample_text)\n",
    "\n",
    "\n",
    "print(\"Sequences of one upper case letter followed by lower case letters:\")\n",
    "print(matches) \n"
   ]
  },
  {
   "cell_type": "code",
   "execution_count": 64,
   "id": "6224746e",
   "metadata": {},
   "outputs": [
    {
     "name": "stdout",
     "output_type": "stream",
     "text": [
      "Modified text: Hello world\n"
     ]
    }
   ],
   "source": [
    "import re\n",
    "\n",
    "def remove_continuous_duplicates(sentence):\n",
    "\n",
    "    pattern = re.compile(r'\\b(\\w+)(\\s+\\1)+\\b', flags=re.IGNORECASE)\n",
    "\n",
    "\n",
    "    modified_sentence = pattern.sub(r'\\1', sentence)\n",
    "\n",
    "    return modified_sentence\n",
    "\n",
    "\n",
    "sample_text = \"Hello hello world world\"\n",
    "\n",
    "\n",
    "modified_text = remove_continuous_duplicates(sample_text)\n",
    "\n",
    "print(\"Modified text:\", modified_text) \n"
   ]
  },
  {
   "cell_type": "code",
   "execution_count": 66,
   "id": "f9fde7c0",
   "metadata": {},
   "outputs": [
    {
     "name": "stdout",
     "output_type": "stream",
     "text": [
      "'Hello123' does not end with an alphanumeric character.\n",
      "'abc!' does not end with an alphanumeric character.\n",
      "'Python3.9' does not end with an alphanumeric character.\n",
      "'hello_world_123' does not end with an alphanumeric character.\n"
     ]
    }
   ],
   "source": [
    "import re\n",
    "\n",
    "def accept_strings_ending_with_alphanumeric(string):\n",
    "    \n",
    "    pattern = re.compile(r'\\w$')\n",
    "\n",
    "    \n",
    "    if pattern.match(string):\n",
    "        return True\n",
    "    else:\n",
    "        return False\n",
    "    \n",
    "sample_strings = [\"Hello123\", \"abc!\", \"Python3.9\", \"hello_world_123\"]\n",
    "\n",
    "\n",
    "for string in sample_strings:\n",
    "    if accept_strings_ending_with_alphanumeric(string):\n",
    "        print(f\"'{string}' ends with an alphanumeric character.\")\n",
    "    else:\n",
    "        print(f\"'{string}' does not end with an alphanumeric character.\") \n"
   ]
  },
  {
   "cell_type": "code",
   "execution_count": 67,
   "id": "4a5dd3b3",
   "metadata": {},
   "outputs": [
    {
     "name": "stdout",
     "output_type": "stream",
     "text": [
      "Hashtags: ['#Doltiwal', '#xyzabc', '#Demonetization']\n"
     ]
    }
   ],
   "source": [
    "import re\n",
    "\n",
    "def extract_hashtags(text):\n",
    "    \n",
    "    pattern = re.compile(r'#\\w+')\n",
    "\n",
    "\n",
    "    hashtags = pattern.findall(text)\n",
    "\n",
    "    return hashtags\n",
    "\n",
    "\n",
    "sample_text = \"\"\"RT @kapil_kausik: #Doltiwal I mean #xyzabc is \"hurt\" by #Demonetization as the same has rendered USELESS <ed><U+00A0><U+00BD><ed><U+00B1><U+0089> \"acquired funds\" No wo\"\"\"\n",
    "\n",
    "\n",
    "hashtags = extract_hashtags(sample_text)\n",
    "\n",
    "print(\"Hashtags:\", hashtags)\n"
   ]
  },
  {
   "cell_type": "code",
   "execution_count": 73,
   "id": "19142848",
   "metadata": {},
   "outputs": [
    {
     "name": "stdout",
     "output_type": "stream",
     "text": [
      "@Jags123456 Bharat band on 28??<ed><ed>Those who are protesting #demonetization are all different party leaders\n"
     ]
    }
   ],
   "source": [
    "import re\n",
    "\n",
    "input_text = \"@Jags123456 Bharat band on 28??<ed><U+00A0><U+00BD><ed><U+00B8><U+0082>Those who are protesting #demonetization are all different party leaders\"\n",
    "\n",
    "pattern = r\"<U\\+\\w{4}>\"\n",
    "output_text = re.sub(pattern, \"\", input_text)\n",
    "\n",
    "print(output_text)"
   ]
  },
  {
   "cell_type": "code",
   "execution_count": 84,
   "id": "739fa7e1",
   "metadata": {},
   "outputs": [
    {
     "name": "stdout",
     "output_type": "stream",
     "text": [
      "Modified text:  following example creates  ArrayList  a capacity   elements. 4 elements   added   ArrayList   ArrayList  trimmed accordingly.\n"
     ]
    }
   ],
   "source": [
    "import re\n",
    "\n",
    "def remove_words_of_length_between_2_and_4(text):\n",
    "\n",
    "    pattern = re.compile(r'\\b\\w{2,4}\\b')\n",
    "\n",
    "    \n",
    "    modified_text = pattern.sub('', text)\n",
    "\n",
    "    return modified_text\n",
    "\n",
    "\n",
    "sample_text = \"The following example creates an ArrayList with a capacity of 50 elements. 4 elements are then added to the ArrayList and the ArrayList is trimmed accordingly.\"\n",
    "\n",
    "\n",
    "modified_text = remove_words_of_length_between_2_and_4(sample_text)\n",
    "\n",
    "print(\"Modified text:\", modified_text)\n"
   ]
  },
  {
   "cell_type": "code",
   "execution_count": null,
   "id": "ebc39775",
   "metadata": {},
   "outputs": [],
   "source": [
    "import re\n",
    "\n",
    "def extract_dates_from_text_file(file_path):\n",
    "    \n",
    "    with open(file_path, 'r') as file:\n",
    "       \n",
    "        text = file.read()\n",
    "    \n",
    "\n",
    "     pattern = re.compile(r'\\b\\d{2}-\\d{2}-\\d{4}\\b') \n",
    "    \n",
    "    dates = pattern.findall(text)\n",
    "\n",
    "    return dates() \n",
    "\n",
    "\n",
    "file_path = 'sample_text.txt'\n",
    "\n",
    "\n",
    "dates = extract_dates_from_text_file(file_path)\n",
    "\n",
    "print(\"Dates extracted from the text file:\", dates)\n"
   ]
  },
  {
   "cell_type": "code",
   "execution_count": null,
   "id": "9c5aefd8",
   "metadata": {},
   "outputs": [],
   "source": []
  }
 ],
 "metadata": {
  "kernelspec": {
   "display_name": "Python 3 (ipykernel)",
   "language": "python",
   "name": "python3"
  },
  "language_info": {
   "codemirror_mode": {
    "name": "ipython",
    "version": 3
   },
   "file_extension": ".py",
   "mimetype": "text/x-python",
   "name": "python",
   "nbconvert_exporter": "python",
   "pygments_lexer": "ipython3",
   "version": "3.11.5"
  }
 },
 "nbformat": 4,
 "nbformat_minor": 5
}
