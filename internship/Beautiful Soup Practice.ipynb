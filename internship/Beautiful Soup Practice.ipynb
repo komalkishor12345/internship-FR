{
 "cells": [
  {
   "cell_type": "code",
   "execution_count": 1,
   "id": "dc079460",
   "metadata": {},
   "outputs": [
    {
     "name": "stdout",
     "output_type": "stream",
     "text": [
      "Requirement already satisfied: requests in c:\\users\\komal\\anaconda3\\lib\\site-packages (2.31.0)Note: you may need to restart the kernel to use updated packages.\n",
      "\n",
      "Requirement already satisfied: beautifulsoup4 in c:\\users\\komal\\anaconda3\\lib\\site-packages (4.12.2)\n",
      "Requirement already satisfied: charset-normalizer<4,>=2 in c:\\users\\komal\\anaconda3\\lib\\site-packages (from requests) (2.0.4)\n",
      "Requirement already satisfied: idna<4,>=2.5 in c:\\users\\komal\\anaconda3\\lib\\site-packages (from requests) (3.4)\n",
      "Requirement already satisfied: urllib3<3,>=1.21.1 in c:\\users\\komal\\anaconda3\\lib\\site-packages (from requests) (1.26.16)\n",
      "Requirement already satisfied: certifi>=2017.4.17 in c:\\users\\komal\\anaconda3\\lib\\site-packages (from requests) (2023.7.22)\n",
      "Requirement already satisfied: soupsieve>1.2 in c:\\users\\komal\\anaconda3\\lib\\site-packages (from beautifulsoup4) (2.4)\n"
     ]
    }
   ],
   "source": [
    "pip install requests beautifulsoup4\n"
   ]
  },
  {
   "cell_type": "code",
   "execution_count": 2,
   "id": "2df43df7",
   "metadata": {},
   "outputs": [
    {
     "name": "stdout",
     "output_type": "stream",
     "text": [
      "h1: WikipediaThe Free Encyclopedia\n",
      "h2: 1,000,000+articles\n",
      "h2: 100,000+articles\n",
      "h2: 10,000+articles\n",
      "h2: 1,000+articles\n",
      "h2: 100+articles\n"
     ]
    }
   ],
   "source": [
    "import requests\n",
    "from bs4 import BeautifulSoup\n",
    "\n",
    "\n",
    "url = 'https://www.wikipedia.org'\n",
    "response = requests.get(url)\n",
    "\n",
    "\n",
    "if response.status_code == 200:\n",
    "   \n",
    "    soup = BeautifulSoup(response.text, 'html.parser')\n",
    "    \n",
    "    \n",
    "    headers = soup.find_all(['h1', 'h2', 'h3', 'h4', 'h5', 'h6'])\n",
    "    \n",
    "    \n",
    "    for header in headers:\n",
    "        print(header.name + ': ' + header.get_text(strip=True))\n",
    "else:\n",
    "    print(f\"Failed to retrieve the webpage. Status code: {response.status_code}\")\n"
   ]
  },
  {
   "cell_type": "code",
   "execution_count": 4,
   "id": "e37ff5b1",
   "metadata": {},
   "outputs": [],
   "source": [
    "response = requests.get(url) \n"
   ]
  },
  {
   "cell_type": "code",
   "execution_count": 5,
   "id": "bc10ca36",
   "metadata": {},
   "outputs": [],
   "source": [
    "soup = BeautifulSoup(response.text, 'html.parser')\n"
   ]
  },
  {
   "cell_type": "code",
   "execution_count": 6,
   "id": "b3db8869",
   "metadata": {},
   "outputs": [],
   "source": [
    "headers = soup.find_all(['h1', 'h2', 'h3', 'h4', 'h5', 'h6'])\n"
   ]
  },
  {
   "cell_type": "code",
   "execution_count": 7,
   "id": "196b47e6",
   "metadata": {},
   "outputs": [
    {
     "name": "stdout",
     "output_type": "stream",
     "text": [
      "h1: WikipediaThe Free Encyclopedia\n",
      "h2: 1,000,000+articles\n",
      "h2: 100,000+articles\n",
      "h2: 10,000+articles\n",
      "h2: 1,000+articles\n",
      "h2: 100+articles\n"
     ]
    }
   ],
   "source": [
    "for header in headers:\n",
    "    print(header.name + ': ' + header.get_text(strip=True))\n"
   ]
  },
  {
   "cell_type": "code",
   "execution_count": 8,
   "id": "0e842ca1",
   "metadata": {},
   "outputs": [
    {
     "name": "stdout",
     "output_type": "stream",
     "text": [
      "Requirement already satisfied: requests in c:\\users\\komal\\anaconda3\\lib\\site-packages (2.31.0)\n",
      "Requirement already satisfied: beautifulsoup4 in c:\\users\\komal\\anaconda3\\lib\\site-packages (4.12.2)\n",
      "Requirement already satisfied: pandas in c:\\users\\komal\\anaconda3\\lib\\site-packages (2.0.3)\n",
      "Requirement already satisfied: charset-normalizer<4,>=2 in c:\\users\\komal\\anaconda3\\lib\\site-packages (from requests) (2.0.4)\n",
      "Requirement already satisfied: idna<4,>=2.5 in c:\\users\\komal\\anaconda3\\lib\\site-packages (from requests) (3.4)\n",
      "Requirement already satisfied: urllib3<3,>=1.21.1 in c:\\users\\komal\\anaconda3\\lib\\site-packages (from requests) (1.26.16)\n",
      "Requirement already satisfied: certifi>=2017.4.17 in c:\\users\\komal\\anaconda3\\lib\\site-packages (from requests) (2023.7.22)\n",
      "Requirement already satisfied: soupsieve>1.2 in c:\\users\\komal\\anaconda3\\lib\\site-packages (from beautifulsoup4) (2.4)\n",
      "Requirement already satisfied: python-dateutil>=2.8.2 in c:\\users\\komal\\anaconda3\\lib\\site-packages (from pandas) (2.8.2)\n",
      "Requirement already satisfied: pytz>=2020.1 in c:\\users\\komal\\anaconda3\\lib\\site-packages (from pandas) (2023.3.post1)\n",
      "Requirement already satisfied: tzdata>=2022.1 in c:\\users\\komal\\anaconda3\\lib\\site-packages (from pandas) (2023.3)\n",
      "Requirement already satisfied: numpy>=1.21.0 in c:\\users\\komal\\anaconda3\\lib\\site-packages (from pandas) (1.24.3)\n",
      "Requirement already satisfied: six>=1.5 in c:\\users\\komal\\anaconda3\\lib\\site-packages (from python-dateutil>=2.8.2->pandas) (1.16.0)\n",
      "Note: you may need to restart the kernel to use updated packages.\n"
     ]
    }
   ],
   "source": [
    "pip install requests beautifulsoup4 pandas\n"
   ]
  },
  {
   "cell_type": "code",
   "execution_count": 9,
   "id": "15ec5d19",
   "metadata": {},
   "outputs": [
    {
     "name": "stdout",
     "output_type": "stream",
     "text": [
      "Failed to retrieve the webpage. Status code: 403\n"
     ]
    }
   ],
   "source": [
    "import requests\n",
    "from bs4 import BeautifulSoup\n",
    "import pandas as pd\n",
    "\n",
    "\n",
    "url = 'https://m.imdb.com/chart/top'\n",
    "response = requests.get(url)\n",
    "\n",
    "\n",
    "if response.status_code == 200:\n",
    "   \n",
    "    soup = BeautifulSoup(response.text, 'html.parser')\n",
    "    \n",
    "   \n",
    "    movies = []\n",
    "    for item in soup.select('.chart .lister-item'):\n",
    "       \n",
    "        name = item.select_one('.lister-item-header a').text.strip()\n",
    "        \n",
    "        rating = item.select_one('.ratings-imdb-rating strong').text.strip()\n",
    "       \n",
    "        year = item.select_one('.lister-item-year').text.strip('()')\n",
    "        \n",
    "       \n",
    "        movies.append({\n",
    "            'Name': name,\n",
    "            'Rating': rating,\n",
    "            'Year': year\n",
    "        })\n",
    "    \n",
    "\n",
    "    df = pd.DataFrame(movies)\n",
    "    \n",
    "    \n",
    "    print(df)\n",
    "else:\n",
    "    print(f\"Failed to retrieve the webpage. Status code: {response.status_code}\")\n"
   ]
  },
  {
   "cell_type": "code",
   "execution_count": null,
   "id": "b5ace2c6",
   "metadata": {},
   "outputs": [],
   "source": [
    "import requests\n",
    "from bs4 import BeautifulSoup\n",
    "\n",
    "\n",
    "url = 'https://www.dineout.co.in/delhi-restaurants'\n",
    "\n",
    "\n",
    "response = requests.get(url)\n",
    "\n",
    "\n",
    "if response.status_code == 200:\n",
    "   \n",
    "    soup = BeautifulSoup(response.text, 'html.parser')\n",
    "    \n",
    "   \n",
    "    restaurants = []\n",
    "    \n",
    "\n",
    "    restaurant_cards = soup.select('.restnt-card')\n",
    "    \n",
    "    for card in restaurant_cards:\n",
    "        \n",
    "        name = card.select_one('.restnt-name').text.strip()\n",
    "        \n",
    "        \n",
    "        cuisine = card.select_one('.detail-info').text.strip()\n",
    "        \n",
    "       \n",
    "        location = card.select_one('.restnt-loc').text.strip()\n",
    "        \n",
    "       \n",
    "        rating_tag = card.select_one('.restnt-rating')\n",
    "        rating = rating_tag.text.strip() if rating_tag else 'N/A'\n",
    "        \n",
    "      \n",
    "        image_url = card.select_one('.restnt-img img')['data-src']\n",
    "        \n",
    "        \n",
    "        restaurants.append({\n",
    "            'Name': name,\n",
    "            'Cuisine': cuisine,\n",
    "            'Location': location,\n",
    "            'Rating': rating,\n",
    "            'Image URL': image_url\n",
    "        })\n",
    "    \n",
    "  \n",
    "    for restaurant in restaurants:\n",
    "        print(restaurant)\n",
    "else:\n",
    "    print(f\"Failed to retrieve the webpage. Status code: {response.status_code}\")\n"
   ]
  },
  {
   "cell_type": "code",
   "execution_count": 25,
   "id": "3a255af5",
   "metadata": {},
   "outputs": [
    {
     "name": "stdout",
     "output_type": "stream",
     "text": [
      "Empty DataFrame\n",
      "Columns: []\n",
      "Index: []\n"
     ]
    }
   ],
   "source": [
    "import requests\n",
    "from bs4 import BeautifulSoup\n",
    "import pandas as pd\n",
    "\n",
    "\n",
    "url = 'https://presidentofindia.nic.in/former-presidents'\n",
    "\n",
    "\n",
    "response = requests.get(url)\n",
    "\n",
    "\n",
    "if response.status_code == 200:\n",
    "   \n",
    "    soup = BeautifulSoup(response.text, 'html.parser')\n",
    "    \n",
    "\n",
    "    presidents = []\n",
    "    \n",
    "\n",
    "    president_sections = soup.select('.presidentListing')\n",
    "    \n",
    "    for section in president_sections:\n",
    "      \n",
    "        name = section.select_one('h3').text.strip()\n",
    "        \n",
    " \n",
    "        term = section.select_one('.term').text.strip()\n",
    "        \n",
    "  \n",
    "        presidents.append({\n",
    "            'Name': name,\n",
    "            'Term of Office': term\n",
    "        })\n",
    "    \n",
    "    \n",
    "    df = pd.DataFrame(presidents)\n",
    "    \n",
    " \n",
    "    print(df)\n",
    "else:\n",
    "    print(f\"Failed to retrieve the webpage. Status code: {response.status_code}\")\n"
   ]
  },
  {
   "cell_type": "code",
   "execution_count": null,
   "id": "8c7bc094",
   "metadata": {},
   "outputs": [],
   "source": []
  },
  {
   "cell_type": "code",
   "execution_count": null,
   "id": "5cc11e79",
   "metadata": {},
   "outputs": [],
   "source": []
  },
  {
   "cell_type": "code",
   "execution_count": null,
   "id": "a19fbf3d",
   "metadata": {},
   "outputs": [],
   "source": []
  },
  {
   "cell_type": "code",
   "execution_count": null,
   "id": "2fe00cf6",
   "metadata": {},
   "outputs": [],
   "source": []
  },
  {
   "cell_type": "code",
   "execution_count": null,
   "id": "c659434b",
   "metadata": {},
   "outputs": [],
   "source": []
  },
  {
   "cell_type": "code",
   "execution_count": null,
   "id": "215648b1",
   "metadata": {},
   "outputs": [],
   "source": []
  },
  {
   "cell_type": "code",
   "execution_count": null,
   "id": "718d932e",
   "metadata": {},
   "outputs": [],
   "source": []
  }
 ],
 "metadata": {
  "kernelspec": {
   "display_name": "Python 3 (ipykernel)",
   "language": "python",
   "name": "python3"
  },
  "language_info": {
   "codemirror_mode": {
    "name": "ipython",
    "version": 3
   },
   "file_extension": ".py",
   "mimetype": "text/x-python",
   "name": "python",
   "nbconvert_exporter": "python",
   "pygments_lexer": "ipython3",
   "version": "3.11.5"
  }
 },
 "nbformat": 4,
 "nbformat_minor": 5
}
