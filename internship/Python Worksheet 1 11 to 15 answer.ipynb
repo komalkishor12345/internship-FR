{
 "cells": [
  {
   "cell_type": "markdown",
   "id": "1e708932",
   "metadata": {},
   "source": [
    "# Question 11. Write a python program to find the factorial of a number.\n"
   ]
  },
  {
   "cell_type": "code",
   "execution_count": null,
   "id": "414ed632",
   "metadata": {},
   "outputs": [],
   "source": [
    "def factorial(n):\n",
    "    if n == 0:\n",
    "        return 1\n",
    "    else:\n",
    "        return n * factorial(n - 1)\n",
    "\n",
    "num = int(input(\"Enter a number: \"))\n",
    "\n",
    "if num < 0:\n",
    "    print(\"Factorial cannot be found for negative numbers.\")\n",
    "elif num == 0:\n",
    "    print(\"The factorial of 0 is 1\")\n",
    "else:\n",
    "    print(\"The factorial of\", num, \"is\", factorial(num))\n"
   ]
  },
  {
   "cell_type": "markdown",
   "id": "c36ba015",
   "metadata": {},
   "source": [
    "# Question 12. Write a python program to find whether a number is prime or composite.\n"
   ]
  },
  {
   "cell_type": "code",
   "execution_count": null,
   "id": "5f65c728",
   "metadata": {},
   "outputs": [],
   "source": [
    "def is_prime(n):\n",
    "    if n <= 1:\n",
    "        return False\n",
    "    elif n == 2:\n",
    "        return True\n",
    "    else:\n",
    "        for i in range(2, int(n**0.5) + 1):\n",
    "            if n % i == 0:\n",
    "                return False\n",
    "        return True\n",
    "\n",
    "num = int(input(\"Enter a number: \"))\n",
    "\n",
    "if is_prime(num):\n",
    "    print(num, \"is a prime number\")\n",
    "else:\n",
    "    print(num, \"is a composite number\")\n"
   ]
  },
  {
   "cell_type": "markdown",
   "id": "d4b81fff",
   "metadata": {},
   "source": [
    "# Question 13. Write a python program to check whether a given string is palindrome or not.\n"
   ]
  },
  {
   "cell_type": "code",
   "execution_count": null,
   "id": "27b93111",
   "metadata": {},
   "outputs": [],
   "source": [
    "def is_palindrome(s):\n",
    "    s = s.replace(\" \", \"\").lower()\n",
    "    return s == s[::-1]\n",
    "\n",
    "string = input(\"Enter a string: \")\n",
    "\n",
    "if is_palindrome(string):\n",
    "    print(\"The string is a palindrome\")\n",
    "else:\n",
    "    print(\"The string is not a palindrome\")\n"
   ]
  },
  {
   "cell_type": "markdown",
   "id": "e53cbd5a",
   "metadata": {},
   "source": [
    "#  Question 14. Write a Python program to get the third side of right-angled triangle from two given sides.\n"
   ]
  },
  {
   "cell_type": "code",
   "execution_count": null,
   "id": "1295f754",
   "metadata": {},
   "outputs": [],
   "source": [
    "def find_third_side(side1, side2):\n",
    "    third_side = (side1 ** 2 + side2 ** 2) ** 0.5\n",
    "    return third_side\n",
    "\n",
    "side1 = float(input(\"Enter the length of the first side: \"))\n",
    "side2 = float(input(\"Enter the length of the second side: \"))\n",
    "\n",
    "third_side = find_third_side(side1, side2)\n",
    "\n",
    "print(\"The length of the third side of the right-angled triangle is:\", third_side)\n"
   ]
  },
  {
   "cell_type": "markdown",
   "id": "5568713d",
   "metadata": {},
   "source": [
    "# Question 15. Write a python program to print the frequency of each of the characters present in a given string."
   ]
  },
  {
   "cell_type": "code",
   "execution_count": null,
   "id": "ba451226",
   "metadata": {},
   "outputs": [],
   "source": [
    "def character_frequency(string):\n",
    "    freq_dict = {}\n",
    "    \n",
    "    for char in string:\n",
    "        freq_dict[char] = freq_dict.get(char, 0) + 1\n",
    "    \n",
    "    for char, freq in freq_dict.items():\n",
    "        print(f\"The character '{char}' appears {freq} time(s) in the string.\")\n",
    "\n",
    "input_string = input(\"Enter a string: \")\n",
    "\n",
    "character_frequency(input_string) \n"
   ]
  },
  {
   "cell_type": "code",
   "execution_count": null,
   "id": "e0730bcd",
   "metadata": {},
   "outputs": [],
   "source": []
  },
  {
   "cell_type": "markdown",
   "id": "d03e5bde",
   "metadata": {},
   "source": []
  }
 ],
 "metadata": {
  "kernelspec": {
   "display_name": "Python 3 (ipykernel)",
   "language": "python",
   "name": "python3"
  },
  "language_info": {
   "codemirror_mode": {
    "name": "ipython",
    "version": 3
   },
   "file_extension": ".py",
   "mimetype": "text/x-python",
   "name": "python",
   "nbconvert_exporter": "python",
   "pygments_lexer": "ipython3",
   "version": "3.11.5"
  }
 },
 "nbformat": 4,
 "nbformat_minor": 5
}
